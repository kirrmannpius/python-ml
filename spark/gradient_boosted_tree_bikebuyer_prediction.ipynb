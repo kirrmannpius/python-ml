{
 "cells": [
  {
   "cell_type": "markdown",
   "metadata": {},
   "source": [
    "## Gradient boosted trees predictive model in a machine learning pipeline\n",
    "In machine learning tasks, several modules and algorithms are composed into a sequential workflow. In Spark the concept of a 'Pipeline' was introduced which allows us to build such workflows.\n",
    "The main concepts in Spark Pipelines are explained in the \n",
    "[Spark ML-Guide](http://spark.apache.org/docs/latest/ml-guide.html)\n",
    "\n",
    "In this notebook, we are using the 'Bike Buyer' dataset provided by Valentine Fontama in\n",
    "his 'Buyer Propensity Model' experiment.\n",
    "This can be found in the Cortana Intelligence Gallery:\n",
    "[Buyer Propensity Model](http://gallery.cortanaintelligence.com/Experiment/Buyer-Propensity-Model-2)"
   ]
  },
  {
   "cell_type": "code",
   "execution_count": 1,
   "metadata": {
    "collapsed": true
   },
   "outputs": [],
   "source": [
    "from pyspark import SparkContext\n",
    "from pyspark.sql import SQLContext"
   ]
  },
  {
   "cell_type": "code",
   "execution_count": 2,
   "metadata": {
    "collapsed": true
   },
   "outputs": [],
   "source": [
    "# stop active context and start a new instance\n",
    "sca = SparkContext._active_spark_context\n",
    "if sca:\n",
    "    sca.stop()\n",
    "sc = SparkContext()\n"
   ]
  },
  {
   "cell_type": "markdown",
   "metadata": {},
   "source": [
    "### Loading the dataset"
   ]
  },
  {
   "cell_type": "code",
   "execution_count": 3,
   "metadata": {
    "collapsed": false
   },
   "outputs": [
    {
     "name": "stdout",
     "output_type": "stream",
     "text": [
      "Data size is 10000\n"
     ]
    },
    {
     "data": {
      "text/plain": [
       "[u'29476,Married,Female,20000,0,Partial College,Manual,No,1,0-1 Miles,Europe,47,Yes,31.42728,151.40989,Skegness,U8H 3NI,United Kingdom',\n",
       " u'29472,Married,Female,10000,1,High School,Manual,No,1,1-2 Miles,Europe,46,No,-49.777,-57.09436,Krefeld,38010,Germany']"
      ]
     },
     "execution_count": 3,
     "metadata": {},
     "output_type": "execute_result"
    }
   ],
   "source": [
    "# load the bike buyer dataset, skip header line\n",
    "bbFileLocation = 'file:/datasets/BikeBuyerWithLocation.csv'\n",
    "bbData = sc.textFile(bbFileLocation)\n",
    "bbHeader = bbData.first()\n",
    "bbData = bbData.filter(lambda x: x != bbHeader)\n",
    "print \"Data size is {}\".format(bbData.count())\n",
    "bbData.take(2)"
   ]
  },
  {
   "cell_type": "markdown",
   "metadata": {},
   "source": [
    "### Preparing the dataset\n",
    "There are some columns with missing values. That might cause problems in machine learning\n",
    "algorithms. Therefore, we prepare the dataset for future use."
   ]
  },
  {
   "cell_type": "code",
   "execution_count": 4,
   "metadata": {
    "collapsed": false,
    "scrolled": true
   },
   "outputs": [
    {
     "name": "stdout",
     "output_type": "stream",
     "text": [
      "root\n",
      " |-- Age: string (nullable = true)\n",
      " |-- Cars: string (nullable = true)\n",
      " |-- Children: string (nullable = true)\n",
      " |-- CommuteDistance: string (nullable = true)\n",
      " |-- Country: string (nullable = true)\n",
      " |-- Education: string (nullable = true)\n",
      " |-- Gender: string (nullable = true)\n",
      " |-- HomeOwner: string (nullable = true)\n",
      " |-- MaritalStatus: string (nullable = true)\n",
      " |-- Occupation: string (nullable = true)\n",
      " |-- Region: string (nullable = true)\n",
      " |-- YearlyIncome: string (nullable = true)\n",
      " |-- label: double (nullable = true)\n",
      "\n"
     ]
    }
   ],
   "source": [
    "# Prepare the dataset\n",
    "# Convert label to 0/1 (as double)\n",
    "def convertYesNo(strlabel):\n",
    "    lbl = 0.0\n",
    "    if (strlabel == 'Yes'):\n",
    "        lbl = 1.0\n",
    "    return lbl\n",
    "\n",
    "# Country not specified for regions North America / Pacific\n",
    "# In these cases we use the region instead, since empty names are not allowed\n",
    "def convertCountry(strCountry, strRegion):\n",
    "    strCountryOut = strCountry\n",
    "    if (strCountry == \"\"):\n",
    "        strCountryOut = strRegion    \n",
    "    return strCountryOut\n",
    "\n",
    "# Parse data and create data frames\n",
    "from pyspark.sql import Row\n",
    "\n",
    "parts = bbData.map(lambda l: l.split(\",\", -1))\n",
    "# select relevant columns for further processing\n",
    "features = parts.map(lambda p: (convertYesNo(p[12]),p[1],p[2],p[3],p[4],p[5],p[6],\n",
    "                                p[7], p[8], p[9], p[10],p[11],\n",
    "                                convertCountry(p[17], p[10])))\n",
    "featuresRows = features.map(lambda p: Row(label=p[0], MaritalStatus=p[1], Gender=p[2],\n",
    "                                         YearlyIncome=p[3], Children=p[4], Education=p[5],\n",
    "                                         Occupation=p[6], HomeOwner=p[7], Cars=p[8],\n",
    "                                         CommuteDistance=p[9], Region=p[10], Age=p[11],\n",
    "                                         Country=p[12]))\n",
    "\n",
    "# sc is an existing spark context\n",
    "sqlContext = SQLContext(sc)\n",
    "\n",
    "# Register the DataFrame as a table\n",
    "dfBB = sqlContext.createDataFrame(featuresRows)\n",
    "dfBB.registerTempTable(\"bikebuyers\")\n",
    "dfBB.printSchema()"
   ]
  },
  {
   "cell_type": "code",
   "execution_count": 5,
   "metadata": {
    "collapsed": false,
    "scrolled": true
   },
   "outputs": [
    {
     "data": {
      "text/plain": [
       "[Row(Age=u'47', Cars=u'1', Children=u'0', CommuteDistance=u'0-1 Miles', Country=u'United Kingdom', Education=u'Partial College', Gender=u'Female', HomeOwner=u'No', MaritalStatus=u'Married', Occupation=u'Manual', Region=u'Europe', YearlyIncome=u'20000', label=1.0),\n",
       " Row(Age=u'46', Cars=u'1', Children=u'1', CommuteDistance=u'1-2 Miles', Country=u'Germany', Education=u'High School', Gender=u'Female', HomeOwner=u'No', MaritalStatus=u'Married', Occupation=u'Manual', Region=u'Europe', YearlyIncome=u'10000', label=0.0)]"
      ]
     },
     "execution_count": 5,
     "metadata": {},
     "output_type": "execute_result"
    }
   ],
   "source": [
    "# display the first two rows\n",
    "dfBB.take(2)"
   ]
  },
  {
   "cell_type": "markdown",
   "metadata": {},
   "source": [
    "#### Cast numeric features to double"
   ]
  },
  {
   "cell_type": "code",
   "execution_count": 6,
   "metadata": {
    "collapsed": false
   },
   "outputs": [
    {
     "data": {
      "text/plain": [
       "[Row(CommuteDistance=u'0-1 Miles', Country=u'United Kingdom', Education=u'Partial College', Gender=u'Female', HomeOwner=u'No', MaritalStatus=u'Married', Occupation=u'Manual', Region=u'Europe', label=1.0, Age=47.0, Cars=1.0, Children=0.0, YearlyIncome=20000.0),\n",
       " Row(CommuteDistance=u'1-2 Miles', Country=u'Germany', Education=u'High School', Gender=u'Female', HomeOwner=u'No', MaritalStatus=u'Married', Occupation=u'Manual', Region=u'Europe', label=0.0, Age=46.0, Cars=1.0, Children=1.0, YearlyIncome=10000.0)]"
      ]
     },
     "execution_count": 6,
     "metadata": {},
     "output_type": "execute_result"
    }
   ],
   "source": [
    "dfBB = dfBB.withColumn(\"IntAgeTmp\", dfBB.Age.cast('double')) \\\n",
    "            .drop(\"Age\") \\\n",
    "            .withColumnRenamed(\"IntAgeTmp\", \"Age\")\n",
    "dfBB = dfBB.withColumn(\"IntCarsTmp\", dfBB.Cars.cast('double')) \\\n",
    "            .drop(\"Cars\") \\\n",
    "            .withColumnRenamed(\"IntCarsTmp\", \"Cars\")\n",
    "dfBB = dfBB.withColumn(\"IntChildrenTmp\", dfBB.Children.cast('double')) \\\n",
    "            .drop(\"Children\") \\\n",
    "            .withColumnRenamed(\"IntChildrenTmp\", \"Children\")\n",
    "dfBB = dfBB.withColumn(\"IntYearlyIncomeTmp\", dfBB.YearlyIncome.cast('double')) \\\n",
    "            .drop(\"YearlyIncome\") \\\n",
    "            .withColumnRenamed(\"IntYearlyIncomeTmp\", \"YearlyIncome\")     \n",
    "        \n",
    "dfBB.take(2)"
   ]
  },
  {
   "cell_type": "markdown",
   "metadata": {},
   "source": [
    "With pandas we can show the first five records in a pretty table format."
   ]
  },
  {
   "cell_type": "code",
   "execution_count": 7,
   "metadata": {
    "collapsed": false
   },
   "outputs": [
    {
     "data": {
      "text/html": [
       "<div>\n",
       "<table border=\"1\" class=\"dataframe\">\n",
       "  <thead>\n",
       "    <tr style=\"text-align: right;\">\n",
       "      <th></th>\n",
       "      <th>0</th>\n",
       "      <th>1</th>\n",
       "      <th>2</th>\n",
       "      <th>3</th>\n",
       "      <th>4</th>\n",
       "    </tr>\n",
       "  </thead>\n",
       "  <tbody>\n",
       "    <tr>\n",
       "      <th>CommuteDistance</th>\n",
       "      <td>0-1 Miles</td>\n",
       "      <td>1-2 Miles</td>\n",
       "      <td>2-5 Miles</td>\n",
       "      <td>1-2 Miles</td>\n",
       "      <td>2-5 Miles</td>\n",
       "    </tr>\n",
       "    <tr>\n",
       "      <th>Country</th>\n",
       "      <td>United Kingdom</td>\n",
       "      <td>Germany</td>\n",
       "      <td>United Kingdom</td>\n",
       "      <td>France</td>\n",
       "      <td>United Kingdom</td>\n",
       "    </tr>\n",
       "    <tr>\n",
       "      <th>Education</th>\n",
       "      <td>Partial College</td>\n",
       "      <td>High School</td>\n",
       "      <td>High School</td>\n",
       "      <td>High School</td>\n",
       "      <td>Partial College</td>\n",
       "    </tr>\n",
       "    <tr>\n",
       "      <th>Gender</th>\n",
       "      <td>Female</td>\n",
       "      <td>Female</td>\n",
       "      <td>Female</td>\n",
       "      <td>Male</td>\n",
       "      <td>Male</td>\n",
       "    </tr>\n",
       "    <tr>\n",
       "      <th>HomeOwner</th>\n",
       "      <td>No</td>\n",
       "      <td>No</td>\n",
       "      <td>No</td>\n",
       "      <td>No</td>\n",
       "      <td>No</td>\n",
       "    </tr>\n",
       "    <tr>\n",
       "      <th>MaritalStatus</th>\n",
       "      <td>Married</td>\n",
       "      <td>Married</td>\n",
       "      <td>Single</td>\n",
       "      <td>Single</td>\n",
       "      <td>Single</td>\n",
       "    </tr>\n",
       "    <tr>\n",
       "      <th>Occupation</th>\n",
       "      <td>Manual</td>\n",
       "      <td>Manual</td>\n",
       "      <td>Manual</td>\n",
       "      <td>Manual</td>\n",
       "      <td>Manual</td>\n",
       "    </tr>\n",
       "    <tr>\n",
       "      <th>Region</th>\n",
       "      <td>Europe</td>\n",
       "      <td>Europe</td>\n",
       "      <td>Europe</td>\n",
       "      <td>Europe</td>\n",
       "      <td>Europe</td>\n",
       "    </tr>\n",
       "    <tr>\n",
       "      <th>label</th>\n",
       "      <td>1</td>\n",
       "      <td>0</td>\n",
       "      <td>0</td>\n",
       "      <td>0</td>\n",
       "      <td>0</td>\n",
       "    </tr>\n",
       "    <tr>\n",
       "      <th>Age</th>\n",
       "      <td>47</td>\n",
       "      <td>46</td>\n",
       "      <td>46</td>\n",
       "      <td>46</td>\n",
       "      <td>64</td>\n",
       "    </tr>\n",
       "    <tr>\n",
       "      <th>Cars</th>\n",
       "      <td>1</td>\n",
       "      <td>1</td>\n",
       "      <td>1</td>\n",
       "      <td>1</td>\n",
       "      <td>1</td>\n",
       "    </tr>\n",
       "    <tr>\n",
       "      <th>Children</th>\n",
       "      <td>0</td>\n",
       "      <td>1</td>\n",
       "      <td>1</td>\n",
       "      <td>1</td>\n",
       "      <td>0</td>\n",
       "    </tr>\n",
       "    <tr>\n",
       "      <th>YearlyIncome</th>\n",
       "      <td>20000</td>\n",
       "      <td>10000</td>\n",
       "      <td>10000</td>\n",
       "      <td>10000</td>\n",
       "      <td>10000</td>\n",
       "    </tr>\n",
       "  </tbody>\n",
       "</table>\n",
       "</div>"
      ],
      "text/plain": [
       "                               0            1               2            3  \\\n",
       "CommuteDistance        0-1 Miles    1-2 Miles       2-5 Miles    1-2 Miles   \n",
       "Country           United Kingdom      Germany  United Kingdom       France   \n",
       "Education        Partial College  High School     High School  High School   \n",
       "Gender                    Female       Female          Female         Male   \n",
       "HomeOwner                     No           No              No           No   \n",
       "MaritalStatus            Married      Married          Single       Single   \n",
       "Occupation                Manual       Manual          Manual       Manual   \n",
       "Region                    Europe       Europe          Europe       Europe   \n",
       "label                          1            0               0            0   \n",
       "Age                           47           46              46           46   \n",
       "Cars                           1            1               1            1   \n",
       "Children                       0            1               1            1   \n",
       "YearlyIncome               20000        10000           10000        10000   \n",
       "\n",
       "                               4  \n",
       "CommuteDistance        2-5 Miles  \n",
       "Country           United Kingdom  \n",
       "Education        Partial College  \n",
       "Gender                      Male  \n",
       "HomeOwner                     No  \n",
       "MaritalStatus             Single  \n",
       "Occupation                Manual  \n",
       "Region                    Europe  \n",
       "label                          0  \n",
       "Age                           64  \n",
       "Cars                           1  \n",
       "Children                       0  \n",
       "YearlyIncome               10000  "
      ]
     },
     "execution_count": 7,
     "metadata": {},
     "output_type": "execute_result"
    }
   ],
   "source": [
    "# With pandas we can show the first five records in a pretty table format\n",
    "import pandas as pd\n",
    "pd.DataFrame(dfBB.take(5),columns=dfBB.columns).transpose()"
   ]
  },
  {
   "cell_type": "markdown",
   "metadata": {
    "collapsed": true
   },
   "source": [
    "#### One-hot encoding: convert categorical features to numerical ones"
   ]
  },
  {
   "cell_type": "code",
   "execution_count": 8,
   "metadata": {
    "collapsed": false
   },
   "outputs": [],
   "source": [
    "from pyspark.ml.feature import OneHotEncoder, StringIndexer\n",
    "MaritalStatusIndexer = StringIndexer(inputCol=\"MaritalStatus\", outputCol=\"indMaritalStatus\")\n",
    "MaritalStatusEncoder = OneHotEncoder(inputCol=\"indMaritalStatus\", outputCol=\"vecMaritalStatus\")\n",
    "GenderIndexer = StringIndexer(inputCol=\"Gender\", outputCol=\"indGender\")\n",
    "GenderEncoder = OneHotEncoder(inputCol=\"indGender\", outputCol=\"vecGender\")\n",
    "HomeOwnerIndexer = StringIndexer(inputCol=\"HomeOwner\", outputCol=\"indHomeOwner\")\n",
    "HomeOwnerEncoder = OneHotEncoder(inputCol=\"indHomeOwner\", outputCol=\"vecHomeOwner\")\n",
    "EducationIndexer = StringIndexer(inputCol=\"Education\", outputCol=\"indEducation\")\n",
    "EducationEncoder = OneHotEncoder(inputCol=\"indEducation\", outputCol=\"vecEducation\")\n",
    "OccupationIndexer = StringIndexer(inputCol=\"Occupation\", outputCol=\"indOccupation\")\n",
    "OccupationEncoder = OneHotEncoder(inputCol=\"indOccupation\", outputCol=\"vecOccupation\")\n",
    "CommuteDistanceIndexer = StringIndexer(inputCol=\"CommuteDistance\", \n",
    "                                       outputCol=\"indCommuteDistance\")\n",
    "CommuteDistanceEncoder = OneHotEncoder(inputCol=\"indCommuteDistance\", \n",
    "                                       outputCol=\"vecCommuteDistance\")\n",
    "RegionIndexer = StringIndexer(inputCol=\"Region\", outputCol=\"indRegion\")\n",
    "RegionEncoder = OneHotEncoder(inputCol=\"indRegion\", outputCol=\"vecRegion\")\n",
    "CountryIndexer = StringIndexer(inputCol=\"Country\", outputCol=\"indCountry\")\n",
    "CountryEncoder = OneHotEncoder(inputCol=\"indCountry\", outputCol=\"vecCountry\")\n"
   ]
  },
  {
   "cell_type": "code",
   "execution_count": 9,
   "metadata": {
    "collapsed": false
   },
   "outputs": [
    {
     "name": "stdout",
     "output_type": "stream",
     "text": [
      "+--------------------+\n",
      "|            features|\n",
      "+--------------------+\n",
      "|(25,[0,2,3,4,7,15...|\n",
      "|(25,[0,1,2,3,4,9,...|\n",
      "|(25,[0,1,2,3,9,20...|\n",
      "|(25,[0,1,2,3,5,9,...|\n",
      "|(25,[0,2,3,5,7,20...|\n",
      "|(25,[0,2,3,8,14,2...|\n",
      "|(25,[0,3,10,14,15...|\n",
      "|(25,[0,2,3,6,8,14...|\n",
      "|(25,[0,3,4,6,8,14...|\n",
      "|(25,[0,3,5,6,7,15...|\n",
      "|(25,[0,3,5,6,8,15...|\n",
      "|(25,[0,3,4,6,10,1...|\n",
      "|(25,[0,3,5,6,10,1...|\n",
      "|(25,[0,3,4,6,10,1...|\n",
      "|(25,[0,3,4,5,6,10...|\n",
      "|(25,[0,3,10,14,15...|\n",
      "|(25,[0,3,8,15,20]...|\n",
      "|(25,[0,3,4,5,6,8,...|\n",
      "|(25,[0,3,4,6,8,15...|\n",
      "|(25,[0,2,3,7,14,1...|\n",
      "+--------------------+\n",
      "only showing top 20 rows\n",
      "\n"
     ]
    }
   ],
   "source": [
    "# set up a pipeline for one-hot-encoding\n",
    "from pyspark.ml import Pipeline\n",
    "from pyspark.ml.feature import VectorAssembler\n",
    "featureAssembler = VectorAssembler(inputCols=[\"Age\",\"Children\",\"Cars\",\"YearlyIncome\",\n",
    "                                            \"vecMaritalStatus\",\"vecGender\",\n",
    "                                            \"vecHomeOwner\", \"vecEducation\",\n",
    "                                            \"vecOccupation\",\"vecCommuteDistance\", \"vecRegion\",\n",
    "                                            \"vecCountry\"],\n",
    "                                  outputCol=\"features\")\n",
    "pipelineOHE = Pipeline(stages=[MaritalStatusIndexer, MaritalStatusEncoder, \n",
    "                               GenderIndexer, GenderEncoder, \n",
    "                               HomeOwnerIndexer, HomeOwnerEncoder,\n",
    "                               EducationIndexer, EducationEncoder,\n",
    "                               OccupationIndexer, OccupationEncoder,\n",
    "                               CommuteDistanceIndexer, CommuteDistanceEncoder,\n",
    "                               RegionIndexer, RegionEncoder, CountryIndexer, CountryEncoder,\n",
    "                                featureAssembler])\n",
    "modelOHE = pipelineOHE.fit(dfBB)\n",
    "featuresOHE = modelOHE.transform(dfBB).select(\"features\")\n",
    "featuresOHE.show()"
   ]
  },
  {
   "cell_type": "code",
   "execution_count": 10,
   "metadata": {
    "collapsed": false
   },
   "outputs": [
    {
     "name": "stdout",
     "output_type": "stream",
     "text": [
      "First record in the dataset\n",
      "Row(CommuteDistance=u'0-1 Miles', Country=u'United Kingdom', Education=u'Partial College', Gender=u'Female', HomeOwner=u'No', MaritalStatus=u'Married', Occupation=u'Manual', Region=u'Europe', label=1.0, Age=47.0, Cars=1.0, Children=0.0, YearlyIncome=20000.0)\n"
     ]
    }
   ],
   "source": [
    "# show first record in dfBB\n",
    "print \"First record in the dataset\"\n",
    "print dfBB.first()"
   ]
  },
  {
   "cell_type": "code",
   "execution_count": 11,
   "metadata": {
    "collapsed": false
   },
   "outputs": [
    {
     "name": "stdout",
     "output_type": "stream",
     "text": [
      "Corresponding one-hot encoded features\n",
      "Row(features=SparseVector(25, {0: 47.0, 2: 1.0, 3: 20000.0, 4: 1.0, 7: 1.0, 15: 1.0, 20: 1.0, 23: 1.0}))\n"
     ]
    }
   ],
   "source": [
    "# show encoded features of first record in dfBB\n",
    "print \"Corresponding one-hot encoded features\"\n",
    "print featuresOHE.first()"
   ]
  },
  {
   "cell_type": "markdown",
   "metadata": {},
   "source": [
    "**Note:** We have prepared a separate notebook covering one-hot encoding in more detail."
   ]
  },
  {
   "cell_type": "markdown",
   "metadata": {},
   "source": [
    "### Split the dataset into a training and testing dataset"
   ]
  },
  {
   "cell_type": "code",
   "execution_count": 12,
   "metadata": {
    "collapsed": true
   },
   "outputs": [],
   "source": [
    "# split data into training and testing data\n",
    "weights = [.8,.2]\n",
    "seed = 42\n",
    "dfTrain, dfTest = dfBB.randomSplit(weights, seed)"
   ]
  },
  {
   "cell_type": "markdown",
   "metadata": {},
   "source": [
    "### Set up the Machine Learning Pipeline\n",
    "We set up a machine learning pipeline with several modules including the 'Gradient Boosted Trees Regressor' (`gbtr`) acting as an 'Estimator'.\n",
    "The `gbtr` is fit on the training dataset `dfTrain`. The resulting `gbtrModel` is a 'Transformer' which is applied to the testing dataset `dfTest` to obtain the predictions."
   ]
  },
  {
   "cell_type": "code",
   "execution_count": 13,
   "metadata": {
    "collapsed": false
   },
   "outputs": [
    {
     "name": "stdout",
     "output_type": "stream",
     "text": [
      "AUC 0.747\n"
     ]
    }
   ],
   "source": [
    "# Gradient boosted trees regressor\n",
    "from pyspark.ml.regression import GBTRegressor\n",
    "from pyspark.mllib.evaluation import BinaryClassificationMetrics\n",
    "\n",
    "gbtr = GBTRegressor(maxIter=10, maxDepth=5, labelCol=\"label\")\n",
    "pipelineGBTR = Pipeline(stages=[MaritalStatusIndexer, MaritalStatusEncoder, \n",
    "                            GenderIndexer, GenderEncoder, \n",
    "                            HomeOwnerIndexer, HomeOwnerEncoder,\n",
    "                            EducationIndexer, EducationEncoder,\n",
    "                            OccupationIndexer, OccupationEncoder,\n",
    "                            CommuteDistanceIndexer, CommuteDistanceEncoder,\n",
    "                            RegionIndexer, RegionEncoder, CountryIndexer, CountryEncoder,\n",
    "                            featureAssembler, gbtr])\n",
    "gbtrModel = pipelineGBTR.fit(dfTrain)\n",
    "gbtrPredictionAndLabels = gbtrModel.transform(dfTest).select(\"prediction\", \"label\") \\\n",
    "                                .map(lambda x: (x.prediction, x.label))\n",
    "# compute metrics\n",
    "gbtrMetrics = BinaryClassificationMetrics(gbtrPredictionAndLabels)\n",
    "print(\"AUC %.3f\" %gbtrMetrics.areaUnderROC)"
   ]
  },
  {
   "cell_type": "markdown",
   "metadata": {},
   "source": [
    "### Cross-validation"
   ]
  },
  {
   "cell_type": "code",
   "execution_count": 14,
   "metadata": {
    "collapsed": false
   },
   "outputs": [
    {
     "name": "stdout",
     "output_type": "stream",
     "text": [
      "AUC 0.747\n"
     ]
    }
   ],
   "source": [
    "# Try to improve accuracy using cross-validation\n",
    "from pyspark.ml.tuning import CrossValidator, ParamGridBuilder\n",
    "from pyspark.ml.evaluation import MulticlassClassificationEvaluator\n",
    "\n",
    "gbtrCV = GBTRegressor(maxIter=10, maxDepth=5, labelCol=\"label\")\n",
    "pipelineCV = Pipeline(stages=[MaritalStatusIndexer, MaritalStatusEncoder, \n",
    "                            GenderIndexer, GenderEncoder, \n",
    "                            HomeOwnerIndexer, HomeOwnerEncoder,\n",
    "                            EducationIndexer, EducationEncoder,\n",
    "                            OccupationIndexer, OccupationEncoder,\n",
    "                            CommuteDistanceIndexer, CommuteDistanceEncoder,\n",
    "                            RegionIndexer, RegionEncoder, CountryIndexer, CountryEncoder,\n",
    "                            featureAssembler, gbtrCV])\n",
    "evaluator = MulticlassClassificationEvaluator(labelCol=\"label\",predictionCol=\"prediction\",\n",
    "                                             metricName=\"precision\")\n",
    "paramGrid = ParamGridBuilder() \\\n",
    "                .addGrid(gbtrCV.maxIter, [10,20]) \\\n",
    "                .addGrid(gbtrCV.maxDepth, [5,7,9]) \\\n",
    "                .build()\n",
    "numFolds = 4\n",
    "crossval = CrossValidator(\n",
    "    estimator = pipelineCV,\n",
    "    estimatorParamMaps = paramGrid,\n",
    "    evaluator=evaluator,\n",
    "    numFolds=numFolds)\n",
    "\n",
    "cvModel = crossval.fit(dfTrain)\n",
    "cvPredictionAndLabels = cvModel.transform(dfTest).select(\"prediction\", \"label\") \\\n",
    "                                .map(lambda x: (x.prediction, x.label))\n",
    "# compute metrics\n",
    "cvMetrics = BinaryClassificationMetrics(cvPredictionAndLabels)\n",
    "print(\"AUC %.3f\" %cvMetrics.areaUnderROC)"
   ]
  },
  {
   "cell_type": "markdown",
   "metadata": {},
   "source": [
    "### From scores to predictions\n"
   ]
  },
  {
   "cell_type": "markdown",
   "metadata": {},
   "source": [
    "Let's have a look into the predictions and labels obtained from our model."
   ]
  },
  {
   "cell_type": "code",
   "execution_count": 15,
   "metadata": {
    "collapsed": false
   },
   "outputs": [
    {
     "data": {
      "text/plain": [
       "[(0.0788530549175131, 0.0), (0.009343923027113392, 0.0)]"
      ]
     },
     "execution_count": 15,
     "metadata": {},
     "output_type": "execute_result"
    }
   ],
   "source": [
    "# prediction contains raw prediction scores\n",
    "cvPredictionAndLabels.take(2)"
   ]
  },
  {
   "cell_type": "markdown",
   "metadata": {},
   "source": [
    "As we can see, the predictions are in double format. If we start a marketing campaign, we want to know which customers are most likely to buy the product. If the score is low, e.g. 0.00934,\n",
    "there is little chance that the customer will buy the product. So we have to set a threshold between 0 and 1 to filter out the people we want to address in the marketing campaign.\n",
    "\n",
    "There is a tradeoff between accuracy and true positives. If the threshold is low, accuracy is low but the number of true positives (bike buyers in our case) is higher."
   ]
  },
  {
   "cell_type": "code",
   "execution_count": 16,
   "metadata": {
    "collapsed": false
   },
   "outputs": [
    {
     "name": "stdout",
     "output_type": "stream",
     "text": [
      "0.893649193548\n"
     ]
    }
   ],
   "source": [
    "# convert scores to 0/1 according to threshold\n",
    "def labelPredict(prediction, threshold):\n",
    "    lbl = 0.0\n",
    "    if prediction >= threshold:\n",
    "        lbl = 1.0\n",
    "    return lbl\n",
    "\n",
    "# set threshold < .5 for more true positives\n",
    "threshold = 0.25\n",
    "cvPredictions = cvModel.transform(dfTest).select(\"prediction\", \"label\") \\\n",
    "            .map(lambda x: Row(prediction=labelPredict(x.prediction, threshold), label=x.label))\n",
    "cvPredictions = sqlContext.createDataFrame(cvPredictions)\n",
    "cvAccuracy = cvPredictions.filter(cvPredictions['label'] == cvPredictions['prediction']).count()\n",
    "cvAccuracy = cvAccuracy / float(cvPredictions.count())\n",
    "print cvAccuracy\n"
   ]
  },
  {
   "cell_type": "code",
   "execution_count": 17,
   "metadata": {
    "collapsed": false
   },
   "outputs": [
    {
     "name": "stdout",
     "output_type": "stream",
     "text": [
      "Threshold 0.250\n",
      "True positives 36\n",
      "False positives 54\n",
      "True negatives 1737\n",
      "False negatives 157\n"
     ]
    }
   ],
   "source": [
    "print(\"Threshold %.3f\" % threshold) \n",
    "nTP = cvPredictions.filter(cvPredictions['label'] == 1.0) \\\n",
    "    .filter(cvPredictions['prediction'] == 1.0) \\\n",
    "    .count()\n",
    "print(\"True positives %.0f\" % nTP)\n",
    "nFP = cvPredictions.filter(cvPredictions['label'] == 0.0) \\\n",
    "    .filter(cvPredictions['prediction'] == 1.0) \\\n",
    "    .count()\n",
    "print(\"False positives %.0f\" % nFP)\n",
    "nTN = cvPredictions.filter(cvPredictions['label'] == 0.0) \\\n",
    "    .filter(cvPredictions['prediction'] == 0.0) \\\n",
    "    .count()\n",
    "print(\"True negatives %.0f\" % nTN) \n",
    "nFN = cvPredictions.filter(cvPredictions['label'] == 1.0) \\\n",
    "    .filter(cvPredictions['prediction'] == 0.0) \\\n",
    "    .count()\n",
    "print(\"False negatives %.0f\" % nFN)\n",
    "\n",
    "\n"
   ]
  },
  {
   "cell_type": "markdown",
   "metadata": {},
   "source": [
    "### Visualization\n",
    "The confusion matrix can be shown as a pie chart.\n",
    "[see Machine learning: Predictive analysis on food inspection data using MLlib with Spark on HDInsight Linux (Preview)](https://github.com/Azure/azure-content/blob/master/articles/hdinsight/hdinsight-apache-spark-machine-learning-mllib-ipython.md)"
   ]
  },
  {
   "cell_type": "code",
   "execution_count": 18,
   "metadata": {
    "collapsed": false
   },
   "outputs": [
    {
     "data": {
      "text/plain": [
       "(-1.0065430165737945, 1.0, -1.0039534770963663, 1.0062651460344028)"
      ]
     },
     "execution_count": 18,
     "metadata": {},
     "output_type": "execute_result"
    },
    {
     "data": {
      "image/png": "[encoded data removed]",
      "text/plain": [
       "<matplotlib.figure.Figure at 0x7fda198f09d0>"
      ]
     },
     "metadata": {},
     "output_type": "display_data"
    }
   ],
   "source": [
    "# Visualize confusion matrix\n",
    "%matplotlib inline\n",
    "import matplotlib.pyplot as plt\n",
    "labels = [\"True positive\", \"False positive\", \"True negative\", \"False negative\"]\n",
    "sizes = [nTP, nFP, nTN, nFN]\n",
    "colors = [\"turquoise\", \"seagreen\", \"mediumslateblue\", \"palegreen\", \"coral\"]\n",
    "plt.pie(sizes,labels=labels,autopct=\"%1.1f%%\", colors=colors)\n",
    "plt.axis(\"equal\")"
   ]
  },
  {
   "cell_type": "code",
   "execution_count": null,
   "metadata": {
    "collapsed": true
   },
   "outputs": [],
   "source": []
  }
 ],
 "metadata": {
  "kernelspec": {
   "display_name": "Python 2",
   "language": "python",
   "name": "python2"
  },
  "language_info": {
   "codemirror_mode": {
    "name": "ipython",
    "version": 2
   },
   "file_extension": ".py",
   "mimetype": "text/x-python",
   "name": "python",
   "nbconvert_exporter": "python",
   "pygments_lexer": "ipython2",
   "version": "2.7.11"
  }
 },
 "nbformat": 4,
 "nbformat_minor": 0
}
