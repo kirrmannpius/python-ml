{
 "cells": [
  {
   "cell_type": "markdown",
   "metadata": {},
   "source": [
    "## One-hot encoding\n",
    "In this notebook we play around with the one-hot encoding function provided in pyspark."
   ]
  },
  {
   "cell_type": "code",
   "execution_count": 1,
   "metadata": {
    "collapsed": true
   },
   "outputs": [],
   "source": [
    "from pyspark import SparkContext\n",
    "from pyspark.sql import SQLContext"
   ]
  },
  {
   "cell_type": "code",
   "execution_count": 2,
   "metadata": {
    "collapsed": true
   },
   "outputs": [],
   "source": [
    "# stop active context and start a new instance\n",
    "sca = SparkContext._active_spark_context\n",
    "if sca:\n",
    "    sca.stop()\n",
    "sc = SparkContext()"
   ]
  },
  {
   "cell_type": "markdown",
   "metadata": {},
   "source": [
    "### Loading the dataset\n",
    "We are using the 'Bike Buyer' dataset provided by Valentine Fontama in\n",
    "his 'Buyer Propensity Model' experiment.\n",
    "This can be found in the Cortana Intelligence Gallery.\n",
    "[Buyer Propensity Model](http://gallery.cortanaintelligence.com/Experiment/Buyer-Propensity-Model-2)\n"
   ]
  },
  {
   "cell_type": "code",
   "execution_count": 3,
   "metadata": {
    "collapsed": false
   },
   "outputs": [
    {
     "name": "stdout",
     "output_type": "stream",
     "text": [
      "Data size is 10000\n"
     ]
    },
    {
     "data": {
      "text/plain": [
       "[u'29476,Married,Female,20000,0,Partial College,Manual,No,1,0-1 Miles,Europe,47,Yes,31.42728,151.40989,Skegness,U8H 3NI,United Kingdom',\n",
       " u'29472,Married,Female,10000,1,High School,Manual,No,1,1-2 Miles,Europe,46,No,-49.777,-57.09436,Krefeld,38010,Germany']"
      ]
     },
     "execution_count": 3,
     "metadata": {},
     "output_type": "execute_result"
    }
   ],
   "source": [
    "# load the bike buyer dataset, skip header line\n",
    "bbFileLocation = 'file:/datasets/BikeBuyerWithLocation.csv'\n",
    "bbData = sc.textFile(bbFileLocation)\n",
    "bbHeader = bbData.first()\n",
    "bbData = bbData.filter(lambda x: x != bbHeader)\n",
    "print \"Data size is {}\".format(bbData.count())\n",
    "bbData.take(2)"
   ]
  },
  {
   "cell_type": "markdown",
   "metadata": {},
   "source": [
    "### Preparing the dataset\n",
    "There are some columns with missing values. That might cause problems in machine learning\n",
    "algorithms. Therefore, we prepare the dataset for future use."
   ]
  },
  {
   "cell_type": "code",
   "execution_count": 4,
   "metadata": {
    "collapsed": false
   },
   "outputs": [
    {
     "name": "stdout",
     "output_type": "stream",
     "text": [
      "root\n",
      " |-- Age: string (nullable = true)\n",
      " |-- Cars: string (nullable = true)\n",
      " |-- Children: string (nullable = true)\n",
      " |-- CommuteDistance: string (nullable = true)\n",
      " |-- Country: string (nullable = true)\n",
      " |-- Education: string (nullable = true)\n",
      " |-- Gender: string (nullable = true)\n",
      " |-- HomeOwner: string (nullable = true)\n",
      " |-- MaritalStatus: string (nullable = true)\n",
      " |-- Occupation: string (nullable = true)\n",
      " |-- Region: string (nullable = true)\n",
      " |-- YearlyIncome: string (nullable = true)\n",
      " |-- label: double (nullable = true)\n",
      "\n"
     ]
    }
   ],
   "source": [
    "# Prepare the dataset\n",
    "# Convert label to 0/1 (as double)\n",
    "def convertYesNo(strlabel):\n",
    "    lbl = 0.0\n",
    "    if (strlabel == 'Yes'):\n",
    "        lbl = 1.0\n",
    "    return lbl\n",
    "\n",
    "# Country not specified for regions North America / Pacific\n",
    "# In these cases we use the region instead, since empty names are not allowed\n",
    "def convertCountry(strCountry, strRegion):\n",
    "    strCountryOut = strCountry\n",
    "    if (strCountry == \"\"):\n",
    "        strCountryOut = strRegion    \n",
    "    return strCountryOut\n",
    "\n",
    "# Parse data and create data frames\n",
    "from pyspark.sql import Row\n",
    "\n",
    "parts = bbData.map(lambda l: l.split(\",\", -1))\n",
    "# select relevant columns for further processing\n",
    "features = parts.map(lambda p: (convertYesNo(p[12]),p[1],p[2],p[3],p[4],p[5],p[6],\n",
    "                                p[7], p[8], p[9], p[10],p[11],\n",
    "                                convertCountry(p[17], p[10])))\n",
    "featuresRows = features.map(lambda p: Row(label=p[0], MaritalStatus=p[1], Gender=p[2],\n",
    "                                         YearlyIncome=p[3], Children=p[4], Education=p[5],\n",
    "                                         Occupation=p[6], HomeOwner=p[7], Cars=p[8],\n",
    "                                         CommuteDistance=p[9], Region=p[10], Age=p[11],\n",
    "                                         Country=p[12]))\n",
    "\n",
    "# sc is an existing spark context\n",
    "sqlContext = SQLContext(sc)\n",
    "\n",
    "# Register the DataFrame as a table\n",
    "dfBB = sqlContext.createDataFrame(featuresRows)\n",
    "dfBB.registerTempTable(\"bikebuyers\")\n",
    "dfBB.printSchema()"
   ]
  },
  {
   "cell_type": "code",
   "execution_count": 5,
   "metadata": {
    "collapsed": true
   },
   "outputs": [],
   "source": [
    "# Cast numeric features to double\n",
    "dfBB = dfBB.withColumn(\"IntAgeTmp\", dfBB.Age.cast('double')) \\\n",
    "            .drop(\"Age\") \\\n",
    "            .withColumnRenamed(\"IntAgeTmp\", \"Age\")\n",
    "dfBB = dfBB.withColumn(\"IntCarsTmp\", dfBB.Cars.cast('double')) \\\n",
    "            .drop(\"Cars\") \\\n",
    "            .withColumnRenamed(\"IntCarsTmp\", \"Cars\")\n",
    "dfBB = dfBB.withColumn(\"IntChildrenTmp\", dfBB.Children.cast('double')) \\\n",
    "            .drop(\"Children\") \\\n",
    "            .withColumnRenamed(\"IntChildrenTmp\", \"Children\")\n",
    "dfBB = dfBB.withColumn(\"IntYearlyIncomeTmp\", dfBB.YearlyIncome.cast('double')) \\\n",
    "            .drop(\"YearlyIncome\") \\\n",
    "            .withColumnRenamed(\"IntYearlyIncomeTmp\", \"YearlyIncome\")  "
   ]
  },
  {
   "cell_type": "markdown",
   "metadata": {},
   "source": [
    "With pandas we can show the first five records in a pretty table format."
   ]
  },
  {
   "cell_type": "code",
   "execution_count": 6,
   "metadata": {
    "collapsed": false
   },
   "outputs": [
    {
     "data": {
      "text/html": [
       "<div>\n",
       "<table border=\"1\" class=\"dataframe\">\n",
       "  <thead>\n",
       "    <tr style=\"text-align: right;\">\n",
       "      <th></th>\n",
       "      <th>0</th>\n",
       "      <th>1</th>\n",
       "      <th>2</th>\n",
       "      <th>3</th>\n",
       "      <th>4</th>\n",
       "    </tr>\n",
       "  </thead>\n",
       "  <tbody>\n",
       "    <tr>\n",
       "      <th>CommuteDistance</th>\n",
       "      <td>0-1 Miles</td>\n",
       "      <td>1-2 Miles</td>\n",
       "      <td>2-5 Miles</td>\n",
       "      <td>1-2 Miles</td>\n",
       "      <td>2-5 Miles</td>\n",
       "    </tr>\n",
       "    <tr>\n",
       "      <th>Country</th>\n",
       "      <td>United Kingdom</td>\n",
       "      <td>Germany</td>\n",
       "      <td>United Kingdom</td>\n",
       "      <td>France</td>\n",
       "      <td>United Kingdom</td>\n",
       "    </tr>\n",
       "    <tr>\n",
       "      <th>Education</th>\n",
       "      <td>Partial College</td>\n",
       "      <td>High School</td>\n",
       "      <td>High School</td>\n",
       "      <td>High School</td>\n",
       "      <td>Partial College</td>\n",
       "    </tr>\n",
       "    <tr>\n",
       "      <th>Gender</th>\n",
       "      <td>Female</td>\n",
       "      <td>Female</td>\n",
       "      <td>Female</td>\n",
       "      <td>Male</td>\n",
       "      <td>Male</td>\n",
       "    </tr>\n",
       "    <tr>\n",
       "      <th>HomeOwner</th>\n",
       "      <td>No</td>\n",
       "      <td>No</td>\n",
       "      <td>No</td>\n",
       "      <td>No</td>\n",
       "      <td>No</td>\n",
       "    </tr>\n",
       "    <tr>\n",
       "      <th>MaritalStatus</th>\n",
       "      <td>Married</td>\n",
       "      <td>Married</td>\n",
       "      <td>Single</td>\n",
       "      <td>Single</td>\n",
       "      <td>Single</td>\n",
       "    </tr>\n",
       "    <tr>\n",
       "      <th>Occupation</th>\n",
       "      <td>Manual</td>\n",
       "      <td>Manual</td>\n",
       "      <td>Manual</td>\n",
       "      <td>Manual</td>\n",
       "      <td>Manual</td>\n",
       "    </tr>\n",
       "    <tr>\n",
       "      <th>Region</th>\n",
       "      <td>Europe</td>\n",
       "      <td>Europe</td>\n",
       "      <td>Europe</td>\n",
       "      <td>Europe</td>\n",
       "      <td>Europe</td>\n",
       "    </tr>\n",
       "    <tr>\n",
       "      <th>label</th>\n",
       "      <td>1</td>\n",
       "      <td>0</td>\n",
       "      <td>0</td>\n",
       "      <td>0</td>\n",
       "      <td>0</td>\n",
       "    </tr>\n",
       "    <tr>\n",
       "      <th>Age</th>\n",
       "      <td>47</td>\n",
       "      <td>46</td>\n",
       "      <td>46</td>\n",
       "      <td>46</td>\n",
       "      <td>64</td>\n",
       "    </tr>\n",
       "    <tr>\n",
       "      <th>Cars</th>\n",
       "      <td>1</td>\n",
       "      <td>1</td>\n",
       "      <td>1</td>\n",
       "      <td>1</td>\n",
       "      <td>1</td>\n",
       "    </tr>\n",
       "    <tr>\n",
       "      <th>Children</th>\n",
       "      <td>0</td>\n",
       "      <td>1</td>\n",
       "      <td>1</td>\n",
       "      <td>1</td>\n",
       "      <td>0</td>\n",
       "    </tr>\n",
       "    <tr>\n",
       "      <th>YearlyIncome</th>\n",
       "      <td>20000</td>\n",
       "      <td>10000</td>\n",
       "      <td>10000</td>\n",
       "      <td>10000</td>\n",
       "      <td>10000</td>\n",
       "    </tr>\n",
       "  </tbody>\n",
       "</table>\n",
       "</div>"
      ],
      "text/plain": [
       "                               0            1               2            3  \\\n",
       "CommuteDistance        0-1 Miles    1-2 Miles       2-5 Miles    1-2 Miles   \n",
       "Country           United Kingdom      Germany  United Kingdom       France   \n",
       "Education        Partial College  High School     High School  High School   \n",
       "Gender                    Female       Female          Female         Male   \n",
       "HomeOwner                     No           No              No           No   \n",
       "MaritalStatus            Married      Married          Single       Single   \n",
       "Occupation                Manual       Manual          Manual       Manual   \n",
       "Region                    Europe       Europe          Europe       Europe   \n",
       "label                          1            0               0            0   \n",
       "Age                           47           46              46           46   \n",
       "Cars                           1            1               1            1   \n",
       "Children                       0            1               1            1   \n",
       "YearlyIncome               20000        10000           10000        10000   \n",
       "\n",
       "                               4  \n",
       "CommuteDistance        2-5 Miles  \n",
       "Country           United Kingdom  \n",
       "Education        Partial College  \n",
       "Gender                      Male  \n",
       "HomeOwner                     No  \n",
       "MaritalStatus             Single  \n",
       "Occupation                Manual  \n",
       "Region                    Europe  \n",
       "label                          0  \n",
       "Age                           64  \n",
       "Cars                           1  \n",
       "Children                       0  \n",
       "YearlyIncome               10000  "
      ]
     },
     "execution_count": 6,
     "metadata": {},
     "output_type": "execute_result"
    }
   ],
   "source": [
    "import pandas as pd\n",
    "pd.DataFrame(dfBB.take(5),columns=dfBB.columns).transpose()"
   ]
  },
  {
   "cell_type": "markdown",
   "metadata": {},
   "source": [
    "### One-hot encoding\n",
    "One-hot encoding is used to convert categorical variables into numerical ones.\n",
    "Let's convert all categorical features to numerical."
   ]
  },
  {
   "cell_type": "code",
   "execution_count": 7,
   "metadata": {
    "collapsed": true
   },
   "outputs": [],
   "source": [
    "from pyspark.ml.feature import OneHotEncoder, StringIndexer\n",
    "MaritalStatusIndexer = StringIndexer(inputCol=\"MaritalStatus\", outputCol=\"indMaritalStatus\")\n",
    "MaritalStatusEncoder = OneHotEncoder(inputCol=\"indMaritalStatus\", outputCol=\"vecMaritalStatus\")\n",
    "GenderIndexer = StringIndexer(inputCol=\"Gender\", outputCol=\"indGender\")\n",
    "GenderEncoder = OneHotEncoder(inputCol=\"indGender\", outputCol=\"vecGender\")\n",
    "HomeOwnerIndexer = StringIndexer(inputCol=\"HomeOwner\", outputCol=\"indHomeOwner\")\n",
    "HomeOwnerEncoder = OneHotEncoder(inputCol=\"indHomeOwner\", outputCol=\"vecHomeOwner\")\n",
    "EducationIndexer = StringIndexer(inputCol=\"Education\", outputCol=\"indEducation\")\n",
    "EducationEncoder = OneHotEncoder(inputCol=\"indEducation\", outputCol=\"vecEducation\")\n",
    "OccupationIndexer = StringIndexer(inputCol=\"Occupation\", outputCol=\"indOccupation\")\n",
    "OccupationEncoder = OneHotEncoder(inputCol=\"indOccupation\", outputCol=\"vecOccupation\")\n",
    "CommuteDistanceIndexer = StringIndexer(inputCol=\"CommuteDistance\", \n",
    "                                       outputCol=\"indCommuteDistance\")\n",
    "CommuteDistanceEncoder = OneHotEncoder(inputCol=\"indCommuteDistance\", \n",
    "                                       outputCol=\"vecCommuteDistance\")\n",
    "RegionIndexer = StringIndexer(inputCol=\"Region\", outputCol=\"indRegion\")\n",
    "RegionEncoder = OneHotEncoder(inputCol=\"indRegion\", outputCol=\"vecRegion\")\n",
    "CountryIndexer = StringIndexer(inputCol=\"Country\", outputCol=\"indCountry\")\n",
    "CountryEncoder = OneHotEncoder(inputCol=\"indCountry\", outputCol=\"vecCountry\")\n"
   ]
  },
  {
   "cell_type": "markdown",
   "metadata": {},
   "source": [
    "#### Setting up a pipeline for one-hot encoding"
   ]
  },
  {
   "cell_type": "code",
   "execution_count": 8,
   "metadata": {
    "collapsed": false
   },
   "outputs": [],
   "source": [
    "from pyspark.ml import Pipeline\n",
    "from pyspark.ml.feature import VectorAssembler\n",
    "featureAssembler = VectorAssembler(inputCols=[\"Age\",\"Children\",\"Cars\",\"YearlyIncome\",\n",
    "                                            \"vecMaritalStatus\",\"vecGender\",\n",
    "                                            \"vecHomeOwner\", \"vecEducation\",\n",
    "                                            \"vecOccupation\",\"vecCommuteDistance\", \"vecRegion\",\n",
    "                                            \"vecCountry\"],\n",
    "                                  outputCol=\"features\")\n",
    "pipelineOHE = Pipeline(stages=[MaritalStatusIndexer, MaritalStatusEncoder, \n",
    "                               GenderIndexer, GenderEncoder, \n",
    "                               HomeOwnerIndexer, HomeOwnerEncoder,\n",
    "                               EducationIndexer, EducationEncoder,\n",
    "                               OccupationIndexer, OccupationEncoder,\n",
    "                               CommuteDistanceIndexer, CommuteDistanceEncoder,\n",
    "                               RegionIndexer, RegionEncoder, CountryIndexer, CountryEncoder,\n",
    "                                featureAssembler])\n",
    "modelOHE = pipelineOHE.fit(dfBB)\n",
    "featuresOHE = modelOHE.transform(dfBB).select(\"features\")"
   ]
  },
  {
   "cell_type": "code",
   "execution_count": 9,
   "metadata": {
    "collapsed": false
   },
   "outputs": [
    {
     "name": "stdout",
     "output_type": "stream",
     "text": [
      "First record in the dataset\n",
      "Row(CommuteDistance=u'0-1 Miles', Country=u'United Kingdom', Education=u'Partial College', Gender=u'Female', HomeOwner=u'No', MaritalStatus=u'Married', Occupation=u'Manual', Region=u'Europe', label=1.0, Age=47.0, Cars=1.0, Children=0.0, YearlyIncome=20000.0)\n"
     ]
    }
   ],
   "source": [
    "# show first record in dfBB\n",
    "print \"First record in the dataset\"\n",
    "print dfBB.first()"
   ]
  },
  {
   "cell_type": "code",
   "execution_count": 10,
   "metadata": {
    "collapsed": false
   },
   "outputs": [
    {
     "name": "stdout",
     "output_type": "stream",
     "text": [
      "Corresponding one-hot encoded features\n",
      "Row(features=SparseVector(25, {0: 47.0, 2: 1.0, 3: 20000.0, 4: 1.0, 7: 1.0, 15: 1.0, 20: 1.0, 23: 1.0}))\n"
     ]
    }
   ],
   "source": [
    "# show encoded features of first record in dfBB\n",
    "print \"Corresponding one-hot encoded features\"\n",
    "print featuresOHE.first()"
   ]
  },
  {
   "cell_type": "markdown",
   "metadata": {},
   "source": [
    "As we can see above, the features are encoded in a sparse vector.\n",
    "Only indices with non initial values are specified with their corresponding values.\n",
    "For example, index 1 corresponds to the column 'Children'. If Children = 0, then index 1 can\n",
    "be ommited.\n",
    "\n",
    "But what is the meaning of 15: 1.0 in the output above?\n",
    "\n",
    "Let's have a closer look at how the encoding works."
   ]
  },
  {
   "cell_type": "code",
   "execution_count": 11,
   "metadata": {
    "collapsed": false
   },
   "outputs": [
    {
     "name": "stdout",
     "output_type": "stream",
     "text": [
      "Row(Country=u'United Kingdom', vecCountry=SparseVector(4, {2: 1.0}))\n",
      "(4,[2],[1.0])\n",
      "Row(Country=u'Germany', vecCountry=SparseVector(4, {}))\n",
      "(4,[],[])\n",
      "Row(Country=u'United Kingdom', vecCountry=SparseVector(4, {2: 1.0}))\n",
      "(4,[2],[1.0])\n",
      "Row(Country=u'France', vecCountry=SparseVector(4, {3: 1.0}))\n",
      "(4,[3],[1.0])\n",
      "Row(Country=u'United Kingdom', vecCountry=SparseVector(4, {2: 1.0}))\n",
      "(4,[2],[1.0])\n",
      "Row(Gender=u'Female', vecGender=SparseVector(1, {}))\n",
      "(1,[],[])\n",
      "Row(Gender=u'Female', vecGender=SparseVector(1, {}))\n",
      "(1,[],[])\n",
      "Row(Gender=u'Female', vecGender=SparseVector(1, {}))\n",
      "(1,[],[])\n",
      "Row(Gender=u'Male', vecGender=SparseVector(1, {0: 1.0}))\n",
      "(1,[0],[1.0])\n",
      "Row(Gender=u'Male', vecGender=SparseVector(1, {0: 1.0}))\n",
      "(1,[0],[1.0])\n"
     ]
    }
   ],
   "source": [
    "# How does OHE work?\n",
    "# Column Country (five distinct values in the dataset)\n",
    "modelCI = CountryIndexer.fit(dfBB)\n",
    "indexedCountry = modelCI.transform(dfBB)\n",
    "encodedCountry = CountryEncoder.transform(indexedCountry)\n",
    "for e in encodedCountry.select(\"Country\", \"vecCountry\").take(5):\n",
    "    print e\n",
    "    print e.vecCountry\n",
    "# column Gender (two distinct values)\n",
    "modelGI = GenderIndexer.fit(dfBB)\n",
    "indexedGender = modelGI.transform(dfBB)\n",
    "encodedGender = GenderEncoder.transform(indexedGender)\n",
    "for e in encodedGender.select(\"Gender\", \"vecGender\").take(5):\n",
    "    print e\n",
    "    print e.vecGender"
   ]
  },
  {
   "cell_type": "markdown",
   "metadata": {},
   "source": [
    "Each value is assigned to a sparse vector. For each category, there is a default value.\n",
    "For example, Gender=Female is mapped to SparseVector(1, {}) and Country=Germany is mapped\n",
    "to SparseVector(4, {}).\n",
    "The corresponding dense vectors are\n",
    "\n",
    "Country           | Dense vector | Sparse vector\n",
    "------------------|--------------|--------------\n",
    "United Kingdom    | 0010         | {2: 1.0}\n",
    "France            | 0001         | {3: 1.0}\n",
    "Germany           | 0000         | {}\n",
    "\n",
    "The distinct values in each category are ordered relative to their frequencies in the dataset."
   ]
  },
  {
   "cell_type": "code",
   "execution_count": 12,
   "metadata": {
    "collapsed": false
   },
   "outputs": [
    {
     "name": "stdout",
     "output_type": "stream",
     "text": [
      "[(u'1.0<->Pacific', 1616), (u'0.0<->North America', 5456), (u'3.0<->France', 984), (u'2.0<->United Kingdom', 991), (u'4.0<->Germany', 953)]\n"
     ]
    }
   ],
   "source": [
    "# Show all distinct countries in the dataset with the corresponding indices\n",
    "countryDistinct = indexedCountry.select(\"Country\", \"indCountry\") \\\n",
    "                .map(lambda x: (str(x.indCountry) + \"<->\" + x.Country, 1)) \\\n",
    "                .groupByKey() \\\n",
    "                .map(lambda (k,v): (k, sum(v))) \\\n",
    "                .collect()\n",
    "print countryDistinct"
   ]
  },
  {
   "cell_type": "code",
   "execution_count": 13,
   "metadata": {
    "collapsed": false
   },
   "outputs": [
    {
     "name": "stdout",
     "output_type": "stream",
     "text": [
      "[(u'1.0<->Female', 4887), (u'0.0<->Male', 5113)]\n"
     ]
    }
   ],
   "source": [
    "# Show number of occurrences for gender in the test dataframe\n",
    "genderDistinct = indexedGender.select(\"Gender\", \"indGender\") \\\n",
    "                .map(lambda x: (str(x.indGender) + \"<->\" + x.Gender, 1)) \\\n",
    "                .groupByKey() \\\n",
    "                .map(lambda (k,v): (k, sum(v))) \\\n",
    "                .collect()\n",
    "print genderDistinct"
   ]
  },
  {
   "cell_type": "code",
   "execution_count": 14,
   "metadata": {
    "collapsed": false
   },
   "outputs": [
    {
     "name": "stdout",
     "output_type": "stream",
     "text": [
      "[(u'0.0<->North America', 5456), (u'1.0<->Europe', 2928), (u'2.0<->Pacific', 1616)]\n"
     ]
    }
   ],
   "source": [
    "# Regions ...\n",
    "modelRI = RegionIndexer.fit(dfBB)\n",
    "indexedRegion = modelRI.transform(dfBB)\n",
    "regionDistinct = indexedRegion.select(\"Region\", \"indRegion\") \\\n",
    "                .map(lambda x: (str(x.indRegion) + \"<->\" + x.Region, 1)) \\\n",
    "                .groupByKey() \\\n",
    "                .map(lambda (k,v): (k, sum(v))) \\\n",
    "                .collect()\n",
    "print regionDistinct"
   ]
  },
  {
   "cell_type": "code",
   "execution_count": 15,
   "metadata": {
    "collapsed": false
   },
   "outputs": [
    {
     "name": "stdout",
     "output_type": "stream",
     "text": [
      "[(u'0.0<->Partial College', 2698), (u'3.0<->Graduate Degree', 1635), (u'2.0<->High School', 1979), (u'1.0<->Bachelors', 2578), (u'4.0<->Partial High School', 1110)]\n"
     ]
    }
   ],
   "source": [
    "# Education \n",
    "modelEI = EducationIndexer.fit(dfBB)\n",
    "indexedEducation = modelEI.transform(dfBB)\n",
    "educationDistinct = indexedEducation.select(\"Education\", \"indEducation\") \\\n",
    "                .map(lambda x: (str(x.indEducation) + \"<->\" + x.Education, 1)) \\\n",
    "                .groupByKey() \\\n",
    "                .map(lambda (k,v): (k, sum(v))) \\\n",
    "                .collect()\n",
    "print educationDistinct"
   ]
  },
  {
   "cell_type": "code",
   "execution_count": 16,
   "metadata": {
    "collapsed": false
   },
   "outputs": [
    {
     "name": "stdout",
     "output_type": "stream",
     "text": [
      "[(u'4.0<->Manual', 1399), (u'3.0<->Clerical', 1423), (u'2.0<->Management', 1730), (u'1.0<->Skilled Manual', 2495), (u'0.0<->Professional', 2953)]\n"
     ]
    }
   ],
   "source": [
    "# Occupation\n",
    "modelOI = OccupationIndexer.fit(dfBB)\n",
    "indexedOccupation = modelOI.transform(dfBB)\n",
    "occupationDistinct = indexedOccupation.select(\"Occupation\", \"indOccupation\") \\\n",
    "                .map(lambda x: (str(x.indOccupation) + \"<->\" + x.Occupation, 1)) \\\n",
    "                .groupByKey() \\\n",
    "                .map(lambda (k,v): (k, sum(v))) \\\n",
    "                .collect()\n",
    "print occupationDistinct"
   ]
  },
  {
   "cell_type": "code",
   "execution_count": 17,
   "metadata": {
    "collapsed": false
   },
   "outputs": [
    {
     "name": "stdout",
     "output_type": "stream",
     "text": [
      "[(u'4.0<->2-5 Miles', 1520), (u'0.0<->0-1 Miles', 3081), (u'3.0<->10+ Miles', 1630), (u'2.0<->1-2 Miles', 1810), (u'1.0<->5-10 Miles', 1959)]\n"
     ]
    }
   ],
   "source": [
    "# Commute distances\n",
    "modelCDI = CommuteDistanceIndexer.fit(dfBB)\n",
    "indexedCommuteDistance = modelCDI.transform(dfBB)\n",
    "CommuteDistanceDistinct = \\\n",
    "                indexedCommuteDistance.select(\"CommuteDistance\", \"indCommuteDistance\") \\\n",
    "                .map(lambda x: (str(x.indCommuteDistance) + \"<->\" + x.CommuteDistance, 1)) \\\n",
    "                .groupByKey() \\\n",
    "                .map(lambda (k,v): (k, sum(v))) \\\n",
    "                .collect()\n",
    "print CommuteDistanceDistinct"
   ]
  },
  {
   "cell_type": "code",
   "execution_count": 18,
   "metadata": {
    "collapsed": false
   },
   "outputs": [
    {
     "name": "stdout",
     "output_type": "stream",
     "text": [
      "(25,[0,2,3,4,7,15,20,23],[47.0,1.0,20000.0,1.0,1.0,1.0,1.0,1.0])\n",
      "(25,[0,1,2,3,4,9,17,20],[46.0,1.0,1.0,10000.0,1.0,1.0,1.0,1.0])\n",
      "(25,[0,1,2,3,9,20,23],[46.0,1.0,1.0,10000.0,1.0,1.0,1.0])\n",
      "(25,[0,1,2,3,5,9,17,20,24],[46.0,1.0,1.0,10000.0,1.0,1.0,1.0,1.0,1.0])\n",
      "(25,[0,2,3,5,7,20,23],[64.0,1.0,10000.0,1.0,1.0,1.0,1.0])\n",
      "(25,[0,2,3,8,14,20,23],[68.0,1.0,10000.0,1.0,1.0,1.0,1.0])\n",
      "(25,[0,3,10,14,15,20],[69.0,20000.0,1.0,1.0,1.0,1.0])\n",
      "(25,[0,2,3,6,8,14,15,20,23],[69.0,1.0,10000.0,1.0,1.0,1.0,1.0,1.0,1.0])\n",
      "(25,[0,3,4,6,8,14,15,20,24],[50.0,20000.0,1.0,1.0,1.0,1.0,1.0,1.0,1.0])\n",
      "(25,[0,3,5,6,7,15,20,24],[50.0,10000.0,1.0,1.0,1.0,1.0,1.0,1.0])\n"
     ]
    }
   ],
   "source": [
    "# Let us inspect the encoded features for the first ten records.\n",
    "for x in featuresOHE.take(10):\n",
    "    print(x.features)"
   ]
  },
  {
   "cell_type": "markdown",
   "metadata": {},
   "source": [
    "### Closing remarks - decoding\n",
    "The feature vector can now be decoded.\n",
    "\n",
    "Index No. | Meaning\n",
    "----------|---------------------------------------------------------\n",
    "0         | Age\n",
    "1         | Children\n",
    "2         | Cars\n",
    "3         | YearlyIncome\n",
    "4         | MaritalStatus_Married   (1: Married, 0: Single)\n",
    "5         | Gender_Male             \n",
    "6         | HomeOwner_Yes\n",
    "7         | Education_Partial_College\n",
    "8         | Education_Bachelor\n",
    "9         | Education_High_School\n",
    "10        | Education_Graduate_Degree\n",
    "11        | Occupation_Professional\n",
    "12        | Occupation_Skilled_Manual\n",
    "13        | Occupation_Management\n",
    "14        | Occupation_Clerical\n",
    "15        | CommuteDistance_0_1_Miles\n",
    "16        | CommuteDistance_5_10_Miles\n",
    "17        | CommuteDistance_1_2_Miles\n",
    "18        | CommuteDistance_10+Miles\n",
    "19        | Region_North_America\n",
    "20        | Region_Europe\n",
    "21        | Country_North_America\n",
    "22        | Country_Pacific\n",
    "23        | Country_United_Kingdom\n",
    "24        | Country_France\n",
    "\n",
    "This information is needed for example when we want to interpret the\n",
    "coefficients of a logistic regression model."
   ]
  },
  {
   "cell_type": "code",
   "execution_count": null,
   "metadata": {
    "collapsed": true
   },
   "outputs": [],
   "source": []
  }
 ],
 "metadata": {
  "kernelspec": {
   "display_name": "Python 2",
   "language": "python",
   "name": "python2"
  },
  "language_info": {
   "codemirror_mode": {
    "name": "ipython",
    "version": 2
   },
   "file_extension": ".py",
   "mimetype": "text/x-python",
   "name": "python",
   "nbconvert_exporter": "python",
   "pygments_lexer": "ipython2",
   "version": "2.7.11"
  }
 },
 "nbformat": 4,
 "nbformat_minor": 0
}
