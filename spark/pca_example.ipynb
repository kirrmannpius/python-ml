{
 "cells": [
  {
   "cell_type": "markdown",
   "metadata": {},
   "source": [
    "   ## Principal component analysis (PCA)"
   ]
  },
  {
   "cell_type": "code",
   "execution_count": 1,
   "metadata": {
    "collapsed": true
   },
   "outputs": [],
   "source": [
    "from pyspark.ml.feature import PCA\n",
    "from pyspark.mllib.linalg import Vectors\n",
    "\n",
    "from pyspark import SparkContext\n",
    "from pyspark.sql import SQLContext"
   ]
  },
  {
   "cell_type": "code",
   "execution_count": 2,
   "metadata": {
    "collapsed": true
   },
   "outputs": [],
   "source": [
    "# stop active context and start a new instance\n",
    "sca = SparkContext._active_spark_context\n",
    "if sca:\n",
    "    sca.stop()\n",
    "sc = SparkContext()\n"
   ]
  },
  {
   "cell_type": "markdown",
   "metadata": {},
   "source": [
    "### Loading the dataset"
   ]
  },
  {
   "cell_type": "code",
   "execution_count": 3,
   "metadata": {
    "collapsed": false
   },
   "outputs": [
    {
     "name": "stdout",
     "output_type": "stream",
     "text": [
      "Data size is 10000\n"
     ]
    },
    {
     "data": {
      "text/plain": [
       "[u'29476,Married,Female,20000,0,Partial College,Manual,No,1,0-1 Miles,Europe,47,Yes,31.42728,151.40989,Skegness,U8H 3NI,United Kingdom',\n",
       " u'29472,Married,Female,10000,1,High School,Manual,No,1,1-2 Miles,Europe,46,No,-49.777,-57.09436,Krefeld,38010,Germany']"
      ]
     },
     "execution_count": 3,
     "metadata": {},
     "output_type": "execute_result"
    }
   ],
   "source": [
    "# load the bike buyer dataset, skip header line\n",
    "bbFileLocation = 'file:/datasets/BikeBuyerWithLocation.csv'\n",
    "bbData = sc.textFile(bbFileLocation)\n",
    "bbHeader = bbData.first()\n",
    "bbData = bbData.filter(lambda x: x != bbHeader)\n",
    "print \"Data size is {}\".format(bbData.count())\n",
    "bbData.take(2)"
   ]
  },
  {
   "cell_type": "markdown",
   "metadata": {},
   "source": [
    "### Preparing the dataset"
   ]
  },
  {
   "cell_type": "code",
   "execution_count": 4,
   "metadata": {
    "collapsed": false
   },
   "outputs": [
    {
     "name": "stdout",
     "output_type": "stream",
     "text": [
      "root\n",
      " |-- Age: string (nullable = true)\n",
      " |-- Cars: string (nullable = true)\n",
      " |-- Children: string (nullable = true)\n",
      " |-- CommuteDistance: string (nullable = true)\n",
      " |-- Country: string (nullable = true)\n",
      " |-- Education: string (nullable = true)\n",
      " |-- Gender: string (nullable = true)\n",
      " |-- HomeOwner: string (nullable = true)\n",
      " |-- MaritalStatus: string (nullable = true)\n",
      " |-- Occupation: string (nullable = true)\n",
      " |-- Region: string (nullable = true)\n",
      " |-- YearlyIncome: string (nullable = true)\n",
      " |-- label: double (nullable = true)\n",
      "\n"
     ]
    }
   ],
   "source": [
    "# Prepare the dataset\n",
    "# Convert label to 0/1 (as double)\n",
    "def convertYesNo(strlabel):\n",
    "    lbl = 0.0\n",
    "    if (strlabel == 'Yes'):\n",
    "        lbl = 1.0\n",
    "    return lbl\n",
    "\n",
    "# Country not specified for regions North America / Pacific\n",
    "# In these cases we use the region instead, since empty names are not allowed\n",
    "def convertCountry(strCountry, strRegion):\n",
    "    strCountryOut = strCountry\n",
    "    if (strCountry == \"\"):\n",
    "        strCountryOut = strRegion    \n",
    "    return strCountryOut\n",
    "\n",
    "# Parse data and create data frames\n",
    "from pyspark.sql import Row\n",
    "\n",
    "parts = bbData.map(lambda l: l.split(\",\", -1))\n",
    "# select relevant columns for further processing\n",
    "features = parts.map(lambda p: (convertYesNo(p[12]),p[1],p[2],p[3],p[4],p[5],p[6],\n",
    "                                p[7], p[8], p[9], p[10],p[11],\n",
    "                                convertCountry(p[17], p[10])))\n",
    "featuresRows = features.map(lambda p: Row(label=p[0], MaritalStatus=p[1], Gender=p[2],\n",
    "                                         YearlyIncome=p[3], Children=p[4], Education=p[5],\n",
    "                                         Occupation=p[6], HomeOwner=p[7], Cars=p[8],\n",
    "                                         CommuteDistance=p[9], Region=p[10], Age=p[11],\n",
    "                                         Country=p[12]))\n",
    "\n",
    "# sc is an existing spark context\n",
    "sqlContext = SQLContext(sc)\n",
    "\n",
    "# Register the DataFrame as a table\n",
    "dfBB = sqlContext.createDataFrame(featuresRows)\n",
    "dfBB.registerTempTable(\"bikebuyers\")\n",
    "dfBB.printSchema()"
   ]
  },
  {
   "cell_type": "markdown",
   "metadata": {},
   "source": [
    "#### Cast numeric features to double\n",
    "In addition to casting to double, we \"normalize\" the values so that these are roughly of the same order of magnitude."
   ]
  },
  {
   "cell_type": "code",
   "execution_count": 5,
   "metadata": {
    "collapsed": true
   },
   "outputs": [],
   "source": [
    "dfBB = dfBB.withColumn(\"IntAgeTmp\", dfBB.Age.cast('double') / 100.0 ) \\\n",
    "            .drop(\"Age\") \\\n",
    "            .withColumnRenamed(\"IntAgeTmp\", \"Age\")\n",
    "dfBB = dfBB.withColumn(\"IntCarsTmp\", dfBB.Cars.cast('double')) \\\n",
    "            .drop(\"Cars\") \\\n",
    "            .withColumnRenamed(\"IntCarsTmp\", \"Cars\")\n",
    "dfBB = dfBB.withColumn(\"IntChildrenTmp\", dfBB.Children.cast('double')) \\\n",
    "            .drop(\"Children\") \\\n",
    "            .withColumnRenamed(\"IntChildrenTmp\", \"Children\")\n",
    "dfBB = dfBB.withColumn(\"IntYearlyIncomeTmp\", dfBB.YearlyIncome.cast('double') / 100000.0) \\\n",
    "            .drop(\"YearlyIncome\") \\\n",
    "            .withColumnRenamed(\"IntYearlyIncomeTmp\", \"YearlyIncome\")     \n"
   ]
  },
  {
   "cell_type": "markdown",
   "metadata": {},
   "source": [
    "#### One-hot encoding: convert categorical features to numerical ones"
   ]
  },
  {
   "cell_type": "code",
   "execution_count": 6,
   "metadata": {
    "collapsed": true
   },
   "outputs": [],
   "source": [
    "from pyspark.ml.feature import OneHotEncoder, StringIndexer\n",
    "MaritalStatusIndexer = StringIndexer(inputCol=\"MaritalStatus\", outputCol=\"indMaritalStatus\")\n",
    "MaritalStatusEncoder = OneHotEncoder(inputCol=\"indMaritalStatus\", outputCol=\"vecMaritalStatus\")\n",
    "GenderIndexer = StringIndexer(inputCol=\"Gender\", outputCol=\"indGender\")\n",
    "GenderEncoder = OneHotEncoder(inputCol=\"indGender\", outputCol=\"vecGender\")\n",
    "HomeOwnerIndexer = StringIndexer(inputCol=\"HomeOwner\", outputCol=\"indHomeOwner\")\n",
    "HomeOwnerEncoder = OneHotEncoder(inputCol=\"indHomeOwner\", outputCol=\"vecHomeOwner\")\n",
    "EducationIndexer = StringIndexer(inputCol=\"Education\", outputCol=\"indEducation\")\n",
    "EducationEncoder = OneHotEncoder(inputCol=\"indEducation\", outputCol=\"vecEducation\")\n",
    "OccupationIndexer = StringIndexer(inputCol=\"Occupation\", outputCol=\"indOccupation\")\n",
    "OccupationEncoder = OneHotEncoder(inputCol=\"indOccupation\", outputCol=\"vecOccupation\")\n",
    "CommuteDistanceIndexer = StringIndexer(inputCol=\"CommuteDistance\", \n",
    "                                       outputCol=\"indCommuteDistance\")\n",
    "CommuteDistanceEncoder = OneHotEncoder(inputCol=\"indCommuteDistance\", \n",
    "                                       outputCol=\"vecCommuteDistance\")\n",
    "RegionIndexer = StringIndexer(inputCol=\"Region\", outputCol=\"indRegion\")\n",
    "RegionEncoder = OneHotEncoder(inputCol=\"indRegion\", outputCol=\"vecRegion\")\n",
    "CountryIndexer = StringIndexer(inputCol=\"Country\", outputCol=\"indCountry\")\n",
    "CountryEncoder = OneHotEncoder(inputCol=\"indCountry\", outputCol=\"vecCountry\")\n"
   ]
  },
  {
   "cell_type": "code",
   "execution_count": 7,
   "metadata": {
    "collapsed": false
   },
   "outputs": [],
   "source": [
    "# set up a pipeline for one-hot-encoding\n",
    "from pyspark.ml import Pipeline\n",
    "from pyspark.ml.feature import VectorAssembler\n",
    "featureAssembler = VectorAssembler(inputCols=[\"Age\",\"Children\",\"Cars\",\"YearlyIncome\",\n",
    "                                            \"vecMaritalStatus\",\"vecGender\",\n",
    "                                            \"vecHomeOwner\", \"vecEducation\",\n",
    "                                            \"vecOccupation\",\"vecCommuteDistance\", \"vecRegion\",\n",
    "                                            \"vecCountry\"],\n",
    "                                  outputCol=\"features\")\n",
    "pipelineOHE = Pipeline(stages=[MaritalStatusIndexer, MaritalStatusEncoder, \n",
    "                               GenderIndexer, GenderEncoder, \n",
    "                               HomeOwnerIndexer, HomeOwnerEncoder,\n",
    "                               EducationIndexer, EducationEncoder,\n",
    "                               OccupationIndexer, OccupationEncoder,\n",
    "                               CommuteDistanceIndexer, CommuteDistanceEncoder,\n",
    "                               RegionIndexer, RegionEncoder, CountryIndexer, CountryEncoder,\n",
    "                                featureAssembler])\n",
    "modelOHE = pipelineOHE.fit(dfBB)\n",
    "featuresOHE = modelOHE.transform(dfBB).select(\"features\")\n"
   ]
  },
  {
   "cell_type": "markdown",
   "metadata": {},
   "source": [
    "Now let's have a look at the transformed features."
   ]
  },
  {
   "cell_type": "code",
   "execution_count": 8,
   "metadata": {
    "collapsed": false
   },
   "outputs": [
    {
     "name": "stdout",
     "output_type": "stream",
     "text": [
      "[Row(features=SparseVector(25, {0: 0.47, 2: 1.0, 3: 0.2, 4: 1.0, 7: 1.0, 15: 1.0, 20: 1.0, 23: 1.0})), Row(features=SparseVector(25, {0: 0.46, 1: 1.0, 2: 1.0, 3: 0.1, 4: 1.0, 9: 1.0, 17: 1.0, 20: 1.0})), Row(features=SparseVector(25, {0: 0.46, 1: 1.0, 2: 1.0, 3: 0.1, 9: 1.0, 20: 1.0, 23: 1.0})), Row(features=SparseVector(25, {0: 0.46, 1: 1.0, 2: 1.0, 3: 0.1, 5: 1.0, 9: 1.0, 17: 1.0, 20: 1.0, 24: 1.0}))]\n"
     ]
    }
   ],
   "source": [
    "print featuresOHE.take(4)"
   ]
  },
  {
   "cell_type": "markdown",
   "metadata": {},
   "source": [
    "### Principal Component Analysis (PCA)\n",
    "We are now ready to apply the PCA module to the one-hot encoded features."
   ]
  },
  {
   "cell_type": "code",
   "execution_count": 9,
   "metadata": {
    "collapsed": false
   },
   "outputs": [
    {
     "name": "stdout",
     "output_type": "stream",
     "text": [
      "+----------------------------------------------------------------+\n",
      "|pcaFeatures                                                     |\n",
      "+----------------------------------------------------------------+\n",
      "|[-0.4776710026574896,0.36828336194345207,-0.7420444677421998]   |\n",
      "|[-1.3347146739959386,0.37085602920566085,-0.30369517158815235]  |\n",
      "|[-1.3295979662870574,0.2960707511380036,-0.6287981352970808]    |\n",
      "|[-1.3007056900294824,0.34770731248921544,-0.5770297566584514]   |\n",
      "|[-0.44268600306292566,0.587057933615011,-0.7425495435388914]    |\n",
      "|[-0.43589483360964065,0.5893665393654044,-0.855231647751818]    |\n",
      "|[0.053810214695810266,-0.47106282115230314,-0.5036676267147404] |\n",
      "|[-0.45476764527073044,0.33631896596997596,-0.8655138053162288]  |\n",
      "|[-0.0912509629644341,-0.5023777179048213,-0.524090976343889]    |\n",
      "|[-0.04941938150312039,-0.4877605989627288,-0.556145543650985]   |\n",
      "|[-0.0663146913704673,-0.42891631013508896,-0.55914978687265]    |\n",
      "|[-0.017888686679770244,-0.5492416731880664,-0.2412411942977083] |\n",
      "|[0.022701681167057328,-0.5864671348344301,-0.5189304105801475]  |\n",
      "|[-0.016851566426797707,-0.6109652088690339,-0.3895036488880306] |\n",
      "|[-0.015894155747216046,-0.6099655783794266,-0.3848059599720043] |\n",
      "|[0.048967699528794165,-0.5234827880279754,-0.6494019259275474]  |\n",
      "|[-0.034448269504500945,-0.31866702666755475,-0.5458595969086377]|\n",
      "|[-0.11067788395106809,-0.44387489305472966,-0.4227894170205313] |\n",
      "|[-0.10609103100325083,-0.3972277327932877,-0.2835792825583756]  |\n",
      "|[-0.41840866722445347,0.387028575694641,-0.827944108736447]     |\n",
      "+----------------------------------------------------------------+\n",
      "only showing top 20 rows\n",
      "\n"
     ]
    }
   ],
   "source": [
    "pca = PCA(k=3, inputCol=\"features\", outputCol=\"pcaFeatures\")\n",
    "model = pca.fit(featuresOHE)\n",
    "pcaFeatures = model.transform(featuresOHE).select(\"pcaFeatures\")\n",
    "pcaFeatures.show(truncate=False)"
   ]
  },
  {
   "cell_type": "markdown",
   "metadata": {},
   "source": [
    "#### Extract eigenvectors\n",
    "[desertnau at stackoverflow:](http://stackoverflow.com/questions/33428589/pyspark-and-pca-how-can-i-extract-the-eigenvectors-of-this-pca-how-can-i-calcu/)\n",
    "\"Well, it seems incredible, but indeed there is not a way to extract such information from a PCA decomposition (at least as of Spark 1.5). \"\n",
    "We grab the code provided by desertnaut:"
   ]
  },
  {
   "cell_type": "code",
   "execution_count": 10,
   "metadata": {
    "collapsed": true
   },
   "outputs": [],
   "source": [
    "import numpy as np\n",
    "\n",
    "def estimateCovariance(df):\n",
    "    \"\"\"Compute the covariance matrix for a given dataframe.\n",
    "\n",
    "    Note:\n",
    "        The multi-dimensional covariance array should be calculated using outer products.  Don't\n",
    "        forget to normalize the data by first subtracting the mean.\n",
    "\n",
    "    Args:\n",
    "        df:  A Spark dataframe with a column named 'features', which (column) consists of DenseVectors.\n",
    "\n",
    "    Returns:\n",
    "        np.ndarray: A multi-dimensional array where the number of rows and columns both equal the\n",
    "            length of the arrays in the input dataframe.\n",
    "    \"\"\"\n",
    "    m = df.select(df['features']).map(lambda x: x[0]).mean()\n",
    "    dfZeroMean = df.select(df['features']).map(lambda x:   x[0]).map(lambda x: x-m)  # subtract the mean\n",
    "\n",
    "    return dfZeroMean.map(lambda x: np.outer(x,x)).sum()/df.count()"
   ]
  },
  {
   "cell_type": "code",
   "execution_count": 11,
   "metadata": {
    "collapsed": true
   },
   "outputs": [],
   "source": [
    "from numpy.linalg import eigh\n",
    "\n",
    "def pca(df, k=2):\n",
    "    \"\"\"Computes the top `k` principal components, corresponding scores, and all eigenvalues.\n",
    "\n",
    "    Note:\n",
    "        All eigenvalues should be returned in sorted order (largest to smallest). `eigh` returns\n",
    "        each eigenvectors as a column.  This function should also return eigenvectors as columns.\n",
    "\n",
    "    Args:\n",
    "        df: A Spark dataframe with a 'features' column, which (column) consists of DenseVectors.\n",
    "        k (int): The number of principal components to return.\n",
    "\n",
    "    Returns:\n",
    "        tuple of (np.ndarray, RDD of np.ndarray, np.ndarray): A tuple of (eigenvectors, `RDD` of\n",
    "        scores, eigenvalues).  Eigenvectors is a multi-dimensional array where the number of\n",
    "        rows equals the length of the arrays in the input `RDD` and the number of columns equals\n",
    "        `k`.  The `RDD` of scores has the same number of rows as `data` and consists of arrays\n",
    "        of length `k`.  Eigenvalues is an array of length d (the number of features).\n",
    "     \"\"\"\n",
    "    cov = estimateCovariance(df)\n",
    "    col = cov.shape[1]\n",
    "    eigVals, eigVecs = eigh(cov)\n",
    "    inds = np.argsort(eigVals)\n",
    "    eigVecs = eigVecs.T[inds[-1:-(col+1):-1]]  \n",
    "    components = eigVecs[0:k]\n",
    "    eigVals = eigVals[inds[-1:-(col+1):-1]]  # sort eigenvals\n",
    "    score = df.select(df['features']).map(lambda x: x[0]).map(lambda x: np.dot(x, components.T) )\n",
    "    # Return the `k` principal components, `k` scores, and all eigenvalues\n",
    "\n",
    "    return components.T, score, eigVals"
   ]
  },
  {
   "cell_type": "markdown",
   "metadata": {},
   "source": [
    "Before we can apply these functions, we have to convert the sparse vectors to arrays."
   ]
  },
  {
   "cell_type": "code",
   "execution_count": 12,
   "metadata": {
    "collapsed": false
   },
   "outputs": [
    {
     "data": {
      "text/plain": [
       "[array([ 0.477671  ,  0.36828336,  0.74204447]),\n",
       " array([ 1.33471467,  0.37085603,  0.30369517]),\n",
       " array([ 1.32959797,  0.29607075,  0.62879814]),\n",
       " array([ 1.30070569,  0.34770731,  0.57702976]),\n",
       " array([ 0.442686  ,  0.58705793,  0.74254954])]"
      ]
     },
     "execution_count": 12,
     "metadata": {},
     "output_type": "execute_result"
    }
   ],
   "source": [
    "featuresDense = featuresOHE.map(lambda sv: (Vectors.dense((sv[0]).toArray()),))\n",
    "dfFeatures = sqlContext.createDataFrame(featuresDense,[\"features\"])\n",
    "\n",
    "comp, score, eigVals = pca(dfFeatures,3)\n",
    "score.take(5)"
   ]
  },
  {
   "cell_type": "markdown",
   "metadata": {},
   "source": [
    "#### Explained variance ratio\n",
    "We would like to know how well the first k principal components capture the variance in the dataset."
   ]
  },
  {
   "cell_type": "code",
   "execution_count": 13,
   "metadata": {
    "collapsed": true
   },
   "outputs": [],
   "source": [
    "def varianceExplained(df, k=1):\n",
    "     \"\"\"Calculate the fraction of variance explained by the top `k` eigenvectors.\n",
    "\n",
    "     Args:\n",
    "         df: A Spark dataframe with a 'features' column, which (column) consists of DenseVectors.\n",
    "         k: The number of principal components to consider.\n",
    "\n",
    "     Returns:\n",
    "         float: A number between 0 and 1 representing the percentage of variance explained\n",
    "             by the top `k` eigenvectors.\n",
    "     \"\"\"\n",
    "     components, scores, eigenvalues = pca(df, k)  \n",
    "     return sum(eigenvalues[0:k])/sum(eigenvalues)"
   ]
  },
  {
   "cell_type": "code",
   "execution_count": 14,
   "metadata": {
    "collapsed": false
   },
   "outputs": [
    {
     "name": "stdout",
     "output_type": "stream",
     "text": [
      "0.619530151197\n"
     ]
    }
   ],
   "source": [
    "print varianceExplained(dfFeatures, 3)"
   ]
  },
  {
   "cell_type": "markdown",
   "metadata": {},
   "source": [
    "#### The first three principal components"
   ]
  },
  {
   "cell_type": "code",
   "execution_count": 15,
   "metadata": {
    "collapsed": false
   },
   "outputs": [
    {
     "name": "stdout",
     "output_type": "stream",
     "text": [
      "[[  2.80699384e-03   1.90927045e-02  -7.30590334e-03]\n",
      " [  8.87433043e-01  -4.05069274e-01  -1.43196938e-01]\n",
      " [  4.17598020e-01   8.28210622e-01   1.95253888e-01]\n",
      " [  1.01391938e-01   7.33642703e-02  -1.09044570e-01]\n",
      " [  3.85958369e-02  -2.34984435e-02  -1.34124451e-01]\n",
      " [ -9.57410680e-04   9.99630490e-04  -4.69768892e-03]\n",
      " [  3.30749945e-02  -5.48713355e-02  -1.28228923e-01]\n",
      " [  8.04012342e-03  -5.22189580e-02   8.88843874e-03]\n",
      " [  3.08712086e-02   1.63107537e-02   9.21840852e-03]\n",
      " [  7.06689165e-03   6.62994504e-02   3.23212166e-02]\n",
      " [ -3.75082028e-02  -8.20185332e-02  -1.28262369e-01]\n",
      " [  6.82877202e-02   3.34921688e-02  -9.30138727e-02]\n",
      " [ -5.28568992e-02   8.52999268e-03  -1.66873211e-01]\n",
      " [  4.66476219e-02   9.59266447e-02  -5.24331230e-02]\n",
      " [ -3.06919451e-02  -6.59851837e-02   1.07946682e-01]\n",
      " [ -1.42302528e-02  -1.98367165e-01   1.38584139e-01]\n",
      " [ -6.59429963e-03   9.57276812e-02  -6.54784480e-02]\n",
      " [ -3.38145010e-02   4.13333621e-02  -4.45425343e-02]\n",
      " [  5.93066185e-02   9.50748603e-02   8.75588802e-03]\n",
      " [ -5.09418438e-02   1.03301039e-01  -5.35518936e-01]\n",
      " [  6.40497274e-03  -1.52538760e-01   4.12249163e-01]\n",
      " [ -5.09418438e-02   1.03301039e-01  -5.35518936e-01]\n",
      " [  4.45368711e-02   4.92377207e-02   1.23269773e-01]\n",
      " [ -3.35371793e-04  -5.69503596e-02   1.46435979e-01]\n",
      " [  5.54426363e-03  -4.76467908e-02   1.43907823e-01]]\n"
     ]
    }
   ],
   "source": [
    "print comp"
   ]
  },
  {
   "cell_type": "markdown",
   "metadata": {},
   "source": [
    "In the first vector, the feature \"Children\" is dominant, in the second vector it is the feature \"Cars\" and in the third vector it's the feature \"North America\"."
   ]
  },
  {
   "cell_type": "markdown",
   "metadata": {},
   "source": [
    "#### Visualization"
   ]
  },
  {
   "cell_type": "code",
   "execution_count": 16,
   "metadata": {
    "collapsed": false
   },
   "outputs": [],
   "source": [
    "s0 = score.map(lambda x: x[0])\n",
    "s1 = score.map(lambda x: x[1])\n",
    "s2 = score.map(lambda x: x[2])"
   ]
  },
  {
   "cell_type": "code",
   "execution_count": 17,
   "metadata": {
    "collapsed": false
   },
   "outputs": [],
   "source": [
    "import numpy as np\n",
    "import matplotlib.pyplot as plt"
   ]
  },
  {
   "cell_type": "code",
   "execution_count": 18,
   "metadata": {
    "collapsed": false
   },
   "outputs": [
    {
     "data": {
      "image/png": "[encoded data removed]",
      "text/plain": [
       "<matplotlib.figure.Figure at 0x7f4974ad8ad0>"
      ]
     },
     "metadata": {},
     "output_type": "display_data"
    }
   ],
   "source": [
    "%matplotlib inline\n",
    "N = 1000\n",
    "s0a = s0.take(N)\n",
    "s1a = s1.take(N)\n",
    "s2a = s2.take(N)\n",
    "lbl = dfBB.map(lambda x: x.label).take(N)\n",
    "plt.scatter(s0a, s2a, c=lbl)\n",
    "plt.show()"
   ]
  },
  {
   "cell_type": "code",
   "execution_count": null,
   "metadata": {
    "collapsed": true
   },
   "outputs": [],
   "source": []
  }
 ],
 "metadata": {
  "kernelspec": {
   "display_name": "Python 2",
   "language": "python",
   "name": "python2"
  },
  "language_info": {
   "codemirror_mode": {
    "name": "ipython",
    "version": 2
   },
   "file_extension": ".py",
   "mimetype": "text/x-python",
   "name": "python",
   "nbconvert_exporter": "python",
   "pygments_lexer": "ipython2",
   "version": "2.7.11"
  }
 },
 "nbformat": 4,
 "nbformat_minor": 0
}
